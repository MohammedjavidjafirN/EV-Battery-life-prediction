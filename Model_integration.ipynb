{
  "cells": [
    {
      "cell_type": "code",
      "execution_count": null,
      "metadata": {
        "colab": {
          "base_uri": "https://localhost:8080/"
        },
        "id": "eKy7Av3UH_Ra",
        "outputId": "71308b8b-0db0-41a5-e50f-c9d8e93ee933"
      },
      "outputs": [
        {
          "name": "stdout",
          "output_type": "stream",
          "text": [
            "Drive already mounted at /content/drive; to attempt to forcibly remount, call drive.mount(\"/content/drive\", force_remount=True).\n"
          ]
        }
      ],
      "source": [
        "from google.colab import drive\n",
        "drive.mount('/content/drive')"
      ]
    },
    {
      "cell_type": "code",
      "execution_count": null,
      "metadata": {
        "id": "9QIEP0TiH5vY"
      },
      "outputs": [],
      "source": [
        "import pickle\n",
        "\n",
        "# Load the saved model from file\n",
        "with open('/content/drive/MyDrive/FYP/model.pkl', 'rb') as file:\n",
        "    model = pickle.load(file)"
      ]
    },
    {
      "cell_type": "code",
      "execution_count": null,
      "metadata": {
        "id": "Zo3A3ixvLXiB"
      },
      "outputs": [],
      "source": [
        "import numpy as np\n"
      ]
    },
    {
      "cell_type": "code",
      "execution_count": null,
      "metadata": {
        "colab": {
          "base_uri": "https://localhost:8080/"
        },
        "id": "AbM9Qx67LCm7",
        "outputId": "6d2d2f30-98a2-4c93-ba0c-bef4420857cd"
      },
      "outputs": [
        {
          "name": "stdout",
          "output_type": "stream",
          "text": [
            "Prediction:  [59.48429666]\n"
          ]
        },
        {
          "name": "stderr",
          "output_type": "stream",
          "text": [
            "/usr/local/lib/python3.10/dist-packages/sklearn/base.py:439: UserWarning: X does not have valid feature names, but RandomForestRegressor was fitted with feature names\n",
            "  warnings.warn(\n"
          ]
        }
      ],
      "source": [
        "Current_sensor = 4\n",
        "voltage_sensor = 8\n",
        "#temperature_sensor = 7\n",
        "sensor_input = np.array([[Current_sensor , voltage_sensor]])\n",
        "prediction = model.predict(sensor_input)\n",
        "val = prediction \n",
        "print('Prediction: ', prediction)"
      ]
    },
    {
      "cell_type": "code",
      "execution_count": null,
      "metadata": {
        "id": "6si3BJkFF0Yr"
      },
      "outputs": [],
      "source": [
        "import requests\n",
        "import requests\n",
        "import json\n",
        "def write_ch(a,b,c,d):\n",
        "  url = f\"https://api.thingspeak.com/update?api_key=S2IZ62ZB8A2VQH97\"\n",
        "  output_values_encoded = \"\"\n",
        "  output_values_encoded += f\"&field1={a}\" + f\"&field2={b}\" + f\"&field3={c}\" + f\"&field4={d}\" ;\n",
        "  url += output_values_encoded\n",
        "    \n",
        "    # Make the HTTP POST request\n",
        "  response = requests.post(url)\n",
        "  print(response.status_code== 200) \n",
        "    # Check if the update was successful"
      ]
    },
    {
      "cell_type": "code",
      "execution_count": null,
      "metadata": {
        "colab": {
          "base_uri": "https://localhost:8080/"
        },
        "id": "ED63_WSrGygs",
        "outputId": "152dd80b-fa35-4cd0-f770-dd0e2e734a97"
      },
      "outputs": [
        {
          "name": "stdout",
          "output_type": "stream",
          "text": [
            "True\n"
          ]
        }
      ],
      "source": [
        "import random \n",
        "t = random.randint(25, 50)\n",
        "c=  random.randint(0,300) / 100\n",
        "v = random.randint(0,120) / 10\n",
        "s = random.randint(0,1)\n",
        "write_ch( 40,c,v,0 )"
      ]
    },
    {
      "cell_type": "code",
      "execution_count": null,
      "metadata": {
        "colab": {
          "base_uri": "https://localhost:8080/"
        },
        "id": "6Hj_skNdLCpY",
        "outputId": "19017f72-c011-434e-c9ba-757db04852d5"
      },
      "outputs": [
        {
          "name": "stdout",
          "output_type": "stream",
          "text": [
            "Looking in indexes: https://pypi.org/simple, https://us-python.pkg.dev/colab-wheels/public/simple/\n",
            "Requirement already satisfied: requests in /usr/local/lib/python3.10/dist-packages (2.27.1)\n",
            "Requirement already satisfied: urllib3<1.27,>=1.21.1 in /usr/local/lib/python3.10/dist-packages (from requests) (1.26.15)\n",
            "Requirement already satisfied: idna<4,>=2.5 in /usr/local/lib/python3.10/dist-packages (from requests) (3.4)\n",
            "Requirement already satisfied: charset-normalizer~=2.0.0 in /usr/local/lib/python3.10/dist-packages (from requests) (2.0.12)\n",
            "Requirement already satisfied: certifi>=2017.4.17 in /usr/local/lib/python3.10/dist-packages (from requests) (2022.12.7)\n"
          ]
        }
      ],
      "source": [
        "!pip install requests\n"
      ]
    },
    {
      "cell_type": "code",
      "execution_count": null,
      "metadata": {
        "id": "-tceZgsDQLGM"
      },
      "outputs": [],
      "source": [
        "channel_id= 2052805\n",
        "api_key= \"ESGC3HQIDZWS9CQU\""
      ]
    },
    {
      "cell_type": "code",
      "execution_count": null,
      "metadata": {
        "id": "l396dlZoWU2V"
      },
      "outputs": [],
      "source": [
        "def get_num(s):\n",
        "  ans=\"\"\n",
        "  for i in s:\n",
        "    if i in ('0','1','2','3','4','5','6','7','8','9') : ans += i\n",
        "  return int(ans)"
      ]
    },
    {
      "cell_type": "code",
      "execution_count": null,
      "metadata": {
        "id": "AfZ-ZSIGD5rB"
      },
      "outputs": [],
      "source": [
        "def tflt(n):\n",
        "  if not n : return -1\n",
        "  else: return float(n)"
      ]
    },
    {
      "cell_type": "code",
      "execution_count": null,
      "metadata": {
        "colab": {
          "base_uri": "https://localhost:8080/"
        },
        "id": "1lcfDL40LCz6",
        "outputId": "4ee1dce0-5478-419f-f5f1-00687a80dc51"
      },
      "outputs": [
        {
          "name": "stdout",
          "output_type": "stream",
          "text": [
            "[{'created_at': '2023-05-04T06:30:21Z', 'entry_id': 42, 'field1': '28.0', 'field2': '3.6', 'field3': '3.0', 'field4': '1', 'field5': None, 'field6': None}, {'created_at': '2023-05-04T06:30:38Z', 'entry_id': 43, 'field1': '28.0', 'field2': '3.6', 'field3': '3.2', 'field4': '1', 'field5': None, 'field6': None}, {'created_at': '2023-05-04T06:30:54Z', 'entry_id': 44, 'field1': '28.0', 'field2': '3.6', 'field3': '2.6', 'field4': '1', 'field5': None, 'field6': None}, {'created_at': '2023-05-04T06:31:10Z', 'entry_id': 45, 'field1': '28.0', 'field2': '3.6', 'field3': '3.0', 'field4': '1', 'field5': None, 'field6': None}, {'created_at': '2023-05-04T07:39:57Z', 'entry_id': 46, 'field1': '40', 'field2': '1.69', 'field3': '0.2', 'field4': '0', 'field5': None, 'field6': None}]\n",
            "[3.6, 3.6, 3.6, 3.6, 1.69]\n",
            "[3.0, 3.2, 2.6, 3.0, 0.2]\n"
          ]
        },
        {
          "data": {
            "text/plain": [
              "array([[1.69, 0.2 ]])"
            ]
          },
          "execution_count": 33,
          "metadata": {},
          "output_type": "execute_result"
        }
      ],
      "source": [
        "import requests\n",
        "import requests\n",
        "import json\n",
        "\n",
        "\n",
        "channel_id = 'your_channel_id'\n",
        "read_key = 'your_read_api_key'\n",
        "\n",
        "url = f'https://api.thingspeak.com/channels/2052805/feeds.json?results=5'\n",
        "\n",
        "response = requests.get(url)\n",
        "\n",
        "data = json.loads(response.text)\n",
        "\n",
        "print(data['feeds'])\n",
        "#temp = rem_none(data['feeds'][x]['field1']) for x in range(2)]\n",
        "I =    [tflt(data['feeds'][y]['field2']) for y in range(5)]\n",
        "V =    [tflt(data['feeds'][z]['field3']) for z in range(5)]\n",
        "\n",
        "print(I)\n",
        "print(V)\n",
        "j=4\n",
        "while(j >= 0):\n",
        "  #print(j)\n",
        "  if I[j] == -1 or V[j] == -1: j-=1 \n",
        "  else: break\n",
        "sensor_input = np.array([[I[j],V[j]]])\n",
        "\n",
        "sensor_input"
      ]
    },
    {
      "cell_type": "code",
      "execution_count": null,
      "metadata": {
        "colab": {
          "base_uri": "https://localhost:8080/"
        },
        "id": "vDrlzT8-FDk5",
        "outputId": "eb8a77a0-8a02-4436-c626-96d7da76c701"
      },
      "outputs": [
        {
          "name": "stderr",
          "output_type": "stream",
          "text": [
            "/usr/local/lib/python3.10/dist-packages/sklearn/base.py:439: UserWarning: X does not have valid feature names, but RandomForestRegressor was fitted with feature names\n",
            "  warnings.warn(\n"
          ]
        },
        {
          "data": {
            "text/plain": [
              "98.61109993620693"
            ]
          },
          "execution_count": 38,
          "metadata": {},
          "output_type": "execute_result"
        }
      ],
      "source": [
        "SoH = model.predict(sensor_input)\n",
        "SoH\n",
        "val = SoH[0]\n",
        "val"
      ]
    },
    {
      "cell_type": "code",
      "execution_count": null,
      "metadata": {
        "colab": {
          "base_uri": "https://localhost:8080/"
        },
        "id": "EUEE5m_mOyVS",
        "outputId": "7decf540-497f-4020-94fc-802d463e9fe7"
      },
      "outputs": [
        {
          "data": {
            "text/plain": [
              "True"
            ]
          },
          "execution_count": 35,
          "metadata": {},
          "output_type": "execute_result"
        }
      ],
      "source": [
        "val = 80\n",
        "url = f\"https://api.thingspeak.com/update?api_key=S2IZ62ZB8A2VQH97\"\n",
        "output_values_encoded = \"\"\n",
        "output_values_encoded += f\"&field5={val}\"\n",
        "url += output_values_encoded\n",
        "    \n",
        "    # Make the HTTP POST request\n",
        "response = requests.post(url)\n",
        "response.status_code== 200 \n",
        "    # Check if the update was successful"
      ]
    },
    {
      "cell_type": "markdown",
      "metadata": {
        "id": "vcCp66liHbGU"
      },
      "source": [
        "## Code to Run continuously"
      ]
    },
    {
      "cell_type": "code",
      "execution_count": null,
      "metadata": {
        "colab": {
          "background_save": true,
          "base_uri": "https://localhost:8080/"
        },
        "id": "tHkomk7gOyXm",
        "outputId": "833fb1da-543c-4e86-890c-965e92dfae44"
      },
      "outputs": [
        {
          "name": "stderr",
          "output_type": "stream",
          "text": [
            "/usr/local/lib/python3.10/dist-packages/sklearn/base.py:439: UserWarning: X does not have valid feature names, but RandomForestRegressor was fitted with feature names\n",
            "  warnings.warn(\n",
            "/usr/local/lib/python3.10/dist-packages/sklearn/base.py:439: UserWarning: X does not have valid feature names, but RandomForestRegressor was fitted with feature names\n",
            "  warnings.warn(\n",
            "/usr/local/lib/python3.10/dist-packages/sklearn/base.py:439: UserWarning: X does not have valid feature names, but RandomForestRegressor was fitted with feature names\n",
            "  warnings.warn(\n",
            "/usr/local/lib/python3.10/dist-packages/sklearn/base.py:439: UserWarning: X does not have valid feature names, but RandomForestRegressor was fitted with feature names\n",
            "  warnings.warn(\n"
          ]
        }
      ],
      "source": [
        "i1 = -1\n",
        "v1=-1\n",
        "while True:\n",
        "  channel_id = 'your_channel_id'\n",
        "  read_key = 'your_read_api_key'\n",
        "\n",
        "  url = f'https://api.thingspeak.com/channels/2052805/feeds.json?results=5'\n",
        "\n",
        "  response = requests.get(url)\n",
        "\n",
        "  data = json.loads(response.text)\n",
        "\n",
        "  I =    [tflt(data['feeds'][y]['field2']) for y in range(5)]\n",
        "  V =    [tflt(data['feeds'][z]['field3']) for z in range(5)]\n",
        "\n",
        "  j=4\n",
        "  while(j >= 0):\n",
        "    if I[j] == -1 or V[j] == -1: j-=1 \n",
        "    else: break\n",
        "  if I[j] == i1 and V[j] == v1: continue\n",
        "  else:\n",
        "    i1= I[j]\n",
        "    v1= V[j]\n",
        "    sensor_input = np.array([[I[j],V[j]]])\n",
        "    SoH = model.predict(sensor_input)\n",
        "    val = SoH[0]\n",
        "    url = f\"https://api.thingspeak.com/update?api_key=S2IZ62ZB8A2VQH97\"\n",
        "    output_values_encoded = \"\"\n",
        "    output_values_encoded += f\"&field5={val}\"\n",
        "    url += output_values_encoded\n",
        "    \n",
        "    # Make the HTTP POST request\n",
        "    response = requests.post(url)\n",
        "    response.status_code== 200 \n",
        "    # Check if the update was successful"
      ]
    },
    {
      "cell_type": "code",
      "execution_count": null,
      "metadata": {
        "id": "T09v6o3LH0s6"
      },
      "outputs": [],
      "source": []
    }
  ],
  "metadata": {
    "colab": {
      "provenance": []
    },
    "kernelspec": {
      "display_name": "Python 3",
      "name": "python3"
    },
    "language_info": {
      "name": "python"
    }
  },
  "nbformat": 4,
  "nbformat_minor": 0
}