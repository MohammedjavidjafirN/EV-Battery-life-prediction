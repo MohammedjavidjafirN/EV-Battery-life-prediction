{
  "cells": [
    {
      "cell_type": "code",
      "execution_count": null,
      "metadata": {
        "id": "dZx3HUbpfFH9"
      },
      "outputs": [],
      "source": [
        "import numpy as np\n",
        "import pandas as pd\n",
        "import pickle\n",
        "import sklearn as skl\n",
        "from sklearn.ensemble import RandomForestRegressor, ExtraTreesRegressor\n",
        "from sklearn.model_selection import GridSearchCV, RandomizedSearchCV\n",
        "from scipy.stats import randint as sp_randint, expon\n",
        "from sklearn.model_selection import GroupKFold, KFold\n",
        "\n",
        "from sklearn.model_selection import train_test_split"
      ]
    },
    {
      "cell_type": "code",
      "execution_count": null,
      "metadata": {
        "colab": {
          "base_uri": "https://localhost:8080/"
        },
        "id": "Tdql-P48eaQu",
        "outputId": "3cd63bcd-b292-46a6-8138-363c0667ad99"
      },
      "outputs": [
        {
          "name": "stdout",
          "output_type": "stream",
          "text": [
            "Looking in indexes: https://pypi.org/simple, https://us-python.pkg.dev/colab-wheels/public/simple/\n",
            "Collecting forestci\n",
            "  Downloading forestci-0.6-py3-none-any.whl (12 kB)\n",
            "Requirement already satisfied: scikit-learn>=0.23.1 in /usr/local/lib/python3.10/dist-packages (from forestci) (1.2.2)\n",
            "Requirement already satisfied: numpy>=1.20 in /usr/local/lib/python3.10/dist-packages (from forestci) (1.22.4)\n",
            "Requirement already satisfied: scipy>=1.3.2 in /usr/local/lib/python3.10/dist-packages (from scikit-learn>=0.23.1->forestci) (1.10.1)\n",
            "Requirement already satisfied: threadpoolctl>=2.0.0 in /usr/local/lib/python3.10/dist-packages (from scikit-learn>=0.23.1->forestci) (3.1.0)\n",
            "Requirement already satisfied: joblib>=1.1.1 in /usr/local/lib/python3.10/dist-packages (from scikit-learn>=0.23.1->forestci) (1.2.0)\n",
            "Installing collected packages: forestci\n",
            "Successfully installed forestci-0.6\n"
          ]
        }
      ],
      "source": [
        "pip install forestci\n"
      ]
    },
    {
      "cell_type": "code",
      "execution_count": null,
      "metadata": {
        "colab": {
          "base_uri": "https://localhost:8080/"
        },
        "id": "-4K49elsn834",
        "outputId": "064a9067-5035-4c95-921f-afb1655439c3"
      },
      "outputs": [
        {
          "name": "stderr",
          "output_type": "stream",
          "text": [
            "ERROR:duecredit:Failed to import duecredit due to No module named 'duecredit'\n"
          ]
        }
      ],
      "source": [
        "import numpy as np\n",
        "import pandas as pd\n",
        "import matplotlib.pyplot as plt\n",
        "import seaborn as sns\n",
        "import glob, os\n",
        "import math\n",
        "import pickle\n",
        "from datetime import datetime\n",
        "import time\n",
        "from collections import Counter\n",
        "import forestci as fci\n",
        "from sklearn.metrics import mean_squared_error, r2_score\n",
        "%matplotlib inline\n",
        "import scipy.stats as st\n",
        "import matplotlib.patches as mpatches"
      ]
    },
    {
      "cell_type": "code",
      "execution_count": null,
      "metadata": {
        "id": "BPQfCg6deqNp"
      },
      "outputs": [],
      "source": [
        "from sklearn.metrics import accuracy_score\n"
      ]
    },
    {
      "cell_type": "code",
      "execution_count": null,
      "metadata": {
        "colab": {
          "background_save": true
        },
        "id": "q5ViGSABft_0",
        "outputId": "24ae2903-cbf0-4835-8b88-ef890d781913"
      },
      "outputs": [
        {
          "name": "stdout",
          "output_type": "stream",
          "text": [
            "Mounted at /content/drive\n"
          ]
        }
      ],
      "source": [
        "from google.colab import drive\n",
        "drive.mount('/content/drive')"
      ]
    },
    {
      "cell_type": "code",
      "execution_count": null,
      "metadata": {
        "colab": {
          "background_save": true
        },
        "id": "W7g3OMl-eqTQ"
      },
      "outputs": [],
      "source": [
        "import scipy.io"
      ]
    },
    {
      "cell_type": "code",
      "execution_count": null,
      "metadata": {
        "colab": {
          "background_save": true
        },
        "id": "c-lHjUzBeqWo"
      },
      "outputs": [],
      "source": [
        "data = pd.read_csv('/content/drive/MyDrive/BatteryDS/dataaaaa.csv')"
      ]
    },
    {
      "cell_type": "code",
      "execution_count": null,
      "metadata": {
        "colab": {
          "background_save": true
        },
        "id": "PNru0zi9tocs",
        "outputId": "41623579-44e4-4f73-94a9-e844686fd47b"
      },
      "outputs": [
        {
          "data": {
            "text/html": [
              "\n",
              "  <div id=\"df-8246d2c3-7081-4f1d-865d-991490197522\">\n",
              "    <div class=\"colab-df-container\">\n",
              "      <div>\n",
              "<style scoped>\n",
              "    .dataframe tbody tr th:only-of-type {\n",
              "        vertical-align: middle;\n",
              "    }\n",
              "\n",
              "    .dataframe tbody tr th {\n",
              "        vertical-align: top;\n",
              "    }\n",
              "\n",
              "    .dataframe thead th {\n",
              "        text-align: right;\n",
              "    }\n",
              "</style>\n",
              "<table border=\"1\" class=\"dataframe\">\n",
              "  <thead>\n",
              "    <tr style=\"text-align: right;\">\n",
              "      <th></th>\n",
              "      <th>Data_Point</th>\n",
              "      <th>Test_Time(s)</th>\n",
              "      <th>Date_Time</th>\n",
              "      <th>Step_Time(s)</th>\n",
              "      <th>Step_Index</th>\n",
              "      <th>Cycle_Index</th>\n",
              "      <th>Current(A)</th>\n",
              "      <th>Voltage(V)</th>\n",
              "      <th>Charge_Capacity(Ah)</th>\n",
              "      <th>Discharge_Capacity(Ah)</th>\n",
              "      <th>Charge_Energy(Wh)</th>\n",
              "      <th>Discharge_Energy(Wh)</th>\n",
              "      <th>dV/dt(V/s)</th>\n",
              "      <th>Internal_Resistance(Ohm)</th>\n",
              "      <th>Is_FC_Data</th>\n",
              "      <th>AC_Impedance(Ohm)</th>\n",
              "      <th>ACI_Phase_Angle(Deg)</th>\n",
              "    </tr>\n",
              "  </thead>\n",
              "  <tbody>\n",
              "    <tr>\n",
              "      <th>0</th>\n",
              "      <td>1</td>\n",
              "      <td>1.001205</td>\n",
              "      <td>10/16/2015 09:34:19</td>\n",
              "      <td>1.001206</td>\n",
              "      <td>1</td>\n",
              "      <td>1</td>\n",
              "      <td>0.0</td>\n",
              "      <td>3.434257</td>\n",
              "      <td>0.000000</td>\n",
              "      <td>0.000000</td>\n",
              "      <td>0.000000</td>\n",
              "      <td>0.000000</td>\n",
              "      <td>0.000000</td>\n",
              "      <td>0.000000</td>\n",
              "      <td>0</td>\n",
              "      <td>0</td>\n",
              "      <td>0</td>\n",
              "    </tr>\n",
              "    <tr>\n",
              "      <th>1</th>\n",
              "      <td>2</td>\n",
              "      <td>2.016763</td>\n",
              "      <td>10/16/2015 09:34:20</td>\n",
              "      <td>2.016764</td>\n",
              "      <td>1</td>\n",
              "      <td>1</td>\n",
              "      <td>0.0</td>\n",
              "      <td>3.434418</td>\n",
              "      <td>0.000000</td>\n",
              "      <td>0.000000</td>\n",
              "      <td>0.000000</td>\n",
              "      <td>0.000000</td>\n",
              "      <td>0.000032</td>\n",
              "      <td>0.000000</td>\n",
              "      <td>0</td>\n",
              "      <td>0</td>\n",
              "      <td>0</td>\n",
              "    </tr>\n",
              "    <tr>\n",
              "      <th>2</th>\n",
              "      <td>3</td>\n",
              "      <td>3.032254</td>\n",
              "      <td>10/16/2015 09:34:21</td>\n",
              "      <td>3.032255</td>\n",
              "      <td>1</td>\n",
              "      <td>1</td>\n",
              "      <td>0.0</td>\n",
              "      <td>3.434581</td>\n",
              "      <td>0.000000</td>\n",
              "      <td>0.000000</td>\n",
              "      <td>0.000000</td>\n",
              "      <td>0.000000</td>\n",
              "      <td>0.000065</td>\n",
              "      <td>0.000000</td>\n",
              "      <td>0</td>\n",
              "      <td>0</td>\n",
              "      <td>0</td>\n",
              "    </tr>\n",
              "    <tr>\n",
              "      <th>3</th>\n",
              "      <td>4</td>\n",
              "      <td>4.032554</td>\n",
              "      <td>10/16/2015 09:34:22</td>\n",
              "      <td>4.032555</td>\n",
              "      <td>1</td>\n",
              "      <td>1</td>\n",
              "      <td>0.0</td>\n",
              "      <td>3.434581</td>\n",
              "      <td>0.000000</td>\n",
              "      <td>0.000000</td>\n",
              "      <td>0.000000</td>\n",
              "      <td>0.000000</td>\n",
              "      <td>0.000065</td>\n",
              "      <td>0.000000</td>\n",
              "      <td>0</td>\n",
              "      <td>0</td>\n",
              "      <td>0</td>\n",
              "    </tr>\n",
              "    <tr>\n",
              "      <th>4</th>\n",
              "      <td>5</td>\n",
              "      <td>5.047983</td>\n",
              "      <td>10/16/2015 09:34:23</td>\n",
              "      <td>5.047983</td>\n",
              "      <td>1</td>\n",
              "      <td>1</td>\n",
              "      <td>0.0</td>\n",
              "      <td>3.434257</td>\n",
              "      <td>0.000000</td>\n",
              "      <td>0.000000</td>\n",
              "      <td>0.000000</td>\n",
              "      <td>0.000000</td>\n",
              "      <td>0.000000</td>\n",
              "      <td>0.000000</td>\n",
              "      <td>0</td>\n",
              "      <td>0</td>\n",
              "      <td>0</td>\n",
              "    </tr>\n",
              "    <tr>\n",
              "      <th>...</th>\n",
              "      <td>...</td>\n",
              "      <td>...</td>\n",
              "      <td>...</td>\n",
              "      <td>...</td>\n",
              "      <td>...</td>\n",
              "      <td>...</td>\n",
              "      <td>...</td>\n",
              "      <td>...</td>\n",
              "      <td>...</td>\n",
              "      <td>...</td>\n",
              "      <td>...</td>\n",
              "      <td>...</td>\n",
              "      <td>...</td>\n",
              "      <td>...</td>\n",
              "      <td>...</td>\n",
              "      <td>...</td>\n",
              "      <td>...</td>\n",
              "    </tr>\n",
              "    <tr>\n",
              "      <th>27597</th>\n",
              "      <td>27598</td>\n",
              "      <td>33517.465620</td>\n",
              "      <td>10/16/2015 18:52:57</td>\n",
              "      <td>296.183986</td>\n",
              "      <td>12</td>\n",
              "      <td>1</td>\n",
              "      <td>0.0</td>\n",
              "      <td>4.195723</td>\n",
              "      <td>4.005512</td>\n",
              "      <td>2.009444</td>\n",
              "      <td>15.628879</td>\n",
              "      <td>7.179247</td>\n",
              "      <td>-0.000065</td>\n",
              "      <td>0.120664</td>\n",
              "      <td>0</td>\n",
              "      <td>0</td>\n",
              "      <td>0</td>\n",
              "    </tr>\n",
              "    <tr>\n",
              "      <th>27598</th>\n",
              "      <td>27599</td>\n",
              "      <td>33518.465880</td>\n",
              "      <td>10/16/2015 18:52:58</td>\n",
              "      <td>297.184251</td>\n",
              "      <td>12</td>\n",
              "      <td>1</td>\n",
              "      <td>0.0</td>\n",
              "      <td>4.195885</td>\n",
              "      <td>4.005512</td>\n",
              "      <td>2.009444</td>\n",
              "      <td>15.628879</td>\n",
              "      <td>7.179247</td>\n",
              "      <td>0.000000</td>\n",
              "      <td>0.120664</td>\n",
              "      <td>0</td>\n",
              "      <td>0</td>\n",
              "      <td>0</td>\n",
              "    </tr>\n",
              "    <tr>\n",
              "      <th>27599</th>\n",
              "      <td>27600</td>\n",
              "      <td>33519.481440</td>\n",
              "      <td>10/16/2015 18:52:59</td>\n",
              "      <td>298.199807</td>\n",
              "      <td>12</td>\n",
              "      <td>1</td>\n",
              "      <td>0.0</td>\n",
              "      <td>4.195885</td>\n",
              "      <td>4.005512</td>\n",
              "      <td>2.009444</td>\n",
              "      <td>15.628879</td>\n",
              "      <td>7.179247</td>\n",
              "      <td>0.000000</td>\n",
              "      <td>0.120664</td>\n",
              "      <td>0</td>\n",
              "      <td>0</td>\n",
              "      <td>0</td>\n",
              "    </tr>\n",
              "    <tr>\n",
              "      <th>27600</th>\n",
              "      <td>27601</td>\n",
              "      <td>33520.497040</td>\n",
              "      <td>10/16/2015 18:53:00</td>\n",
              "      <td>299.215413</td>\n",
              "      <td>12</td>\n",
              "      <td>1</td>\n",
              "      <td>0.0</td>\n",
              "      <td>4.195885</td>\n",
              "      <td>4.005512</td>\n",
              "      <td>2.009444</td>\n",
              "      <td>15.628879</td>\n",
              "      <td>7.179247</td>\n",
              "      <td>0.000032</td>\n",
              "      <td>0.120664</td>\n",
              "      <td>0</td>\n",
              "      <td>0</td>\n",
              "      <td>0</td>\n",
              "    </tr>\n",
              "    <tr>\n",
              "      <th>27601</th>\n",
              "      <td>27602</td>\n",
              "      <td>33521.293920</td>\n",
              "      <td>10/16/2015 18:53:01</td>\n",
              "      <td>300.012293</td>\n",
              "      <td>12</td>\n",
              "      <td>1</td>\n",
              "      <td>0.0</td>\n",
              "      <td>4.195885</td>\n",
              "      <td>4.005512</td>\n",
              "      <td>2.009444</td>\n",
              "      <td>15.628879</td>\n",
              "      <td>7.179247</td>\n",
              "      <td>0.000000</td>\n",
              "      <td>0.120664</td>\n",
              "      <td>0</td>\n",
              "      <td>0</td>\n",
              "      <td>0</td>\n",
              "    </tr>\n",
              "  </tbody>\n",
              "</table>\n",
              "<p>27602 rows × 17 columns</p>\n",
              "</div>\n",
              "      <button class=\"colab-df-convert\" onclick=\"convertToInteractive('df-8246d2c3-7081-4f1d-865d-991490197522')\"\n",
              "              title=\"Convert this dataframe to an interactive table.\"\n",
              "              style=\"display:none;\">\n",
              "        \n",
              "  <svg xmlns=\"http://www.w3.org/2000/svg\" height=\"24px\"viewBox=\"0 0 24 24\"\n",
              "       width=\"24px\">\n",
              "    <path d=\"M0 0h24v24H0V0z\" fill=\"none\"/>\n",
              "    <path d=\"M18.56 5.44l.94 2.06.94-2.06 2.06-.94-2.06-.94-.94-2.06-.94 2.06-2.06.94zm-11 1L8.5 8.5l.94-2.06 2.06-.94-2.06-.94L8.5 2.5l-.94 2.06-2.06.94zm10 10l.94 2.06.94-2.06 2.06-.94-2.06-.94-.94-2.06-.94 2.06-2.06.94z\"/><path d=\"M17.41 7.96l-1.37-1.37c-.4-.4-.92-.59-1.43-.59-.52 0-1.04.2-1.43.59L10.3 9.45l-7.72 7.72c-.78.78-.78 2.05 0 2.83L4 21.41c.39.39.9.59 1.41.59.51 0 1.02-.2 1.41-.59l7.78-7.78 2.81-2.81c.8-.78.8-2.07 0-2.86zM5.41 20L4 18.59l7.72-7.72 1.47 1.35L5.41 20z\"/>\n",
              "  </svg>\n",
              "      </button>\n",
              "      \n",
              "  <style>\n",
              "    .colab-df-container {\n",
              "      display:flex;\n",
              "      flex-wrap:wrap;\n",
              "      gap: 12px;\n",
              "    }\n",
              "\n",
              "    .colab-df-convert {\n",
              "      background-color: #E8F0FE;\n",
              "      border: none;\n",
              "      border-radius: 50%;\n",
              "      cursor: pointer;\n",
              "      display: none;\n",
              "      fill: #1967D2;\n",
              "      height: 32px;\n",
              "      padding: 0 0 0 0;\n",
              "      width: 32px;\n",
              "    }\n",
              "\n",
              "    .colab-df-convert:hover {\n",
              "      background-color: #E2EBFA;\n",
              "      box-shadow: 0px 1px 2px rgba(60, 64, 67, 0.3), 0px 1px 3px 1px rgba(60, 64, 67, 0.15);\n",
              "      fill: #174EA6;\n",
              "    }\n",
              "\n",
              "    [theme=dark] .colab-df-convert {\n",
              "      background-color: #3B4455;\n",
              "      fill: #D2E3FC;\n",
              "    }\n",
              "\n",
              "    [theme=dark] .colab-df-convert:hover {\n",
              "      background-color: #434B5C;\n",
              "      box-shadow: 0px 1px 3px 1px rgba(0, 0, 0, 0.15);\n",
              "      filter: drop-shadow(0px 1px 2px rgba(0, 0, 0, 0.3));\n",
              "      fill: #FFFFFF;\n",
              "    }\n",
              "  </style>\n",
              "\n",
              "      <script>\n",
              "        const buttonEl =\n",
              "          document.querySelector('#df-8246d2c3-7081-4f1d-865d-991490197522 button.colab-df-convert');\n",
              "        buttonEl.style.display =\n",
              "          google.colab.kernel.accessAllowed ? 'block' : 'none';\n",
              "\n",
              "        async function convertToInteractive(key) {\n",
              "          const element = document.querySelector('#df-8246d2c3-7081-4f1d-865d-991490197522');\n",
              "          const dataTable =\n",
              "            await google.colab.kernel.invokeFunction('convertToInteractive',\n",
              "                                                     [key], {});\n",
              "          if (!dataTable) return;\n",
              "\n",
              "          const docLinkHtml = 'Like what you see? Visit the ' +\n",
              "            '<a target=\"_blank\" href=https://colab.research.google.com/notebooks/data_table.ipynb>data table notebook</a>'\n",
              "            + ' to learn more about interactive tables.';\n",
              "          element.innerHTML = '';\n",
              "          dataTable['output_type'] = 'display_data';\n",
              "          await google.colab.output.renderOutput(dataTable, element);\n",
              "          const docLink = document.createElement('div');\n",
              "          docLink.innerHTML = docLinkHtml;\n",
              "          element.appendChild(docLink);\n",
              "        }\n",
              "      </script>\n",
              "    </div>\n",
              "  </div>\n",
              "  "
            ],
            "text/plain": [
              "       Data_Point  Test_Time(s)            Date_Time  Step_Time(s)  \\\n",
              "0               1      1.001205  10/16/2015 09:34:19      1.001206   \n",
              "1               2      2.016763  10/16/2015 09:34:20      2.016764   \n",
              "2               3      3.032254  10/16/2015 09:34:21      3.032255   \n",
              "3               4      4.032554  10/16/2015 09:34:22      4.032555   \n",
              "4               5      5.047983  10/16/2015 09:34:23      5.047983   \n",
              "...           ...           ...                  ...           ...   \n",
              "27597       27598  33517.465620  10/16/2015 18:52:57    296.183986   \n",
              "27598       27599  33518.465880  10/16/2015 18:52:58    297.184251   \n",
              "27599       27600  33519.481440  10/16/2015 18:52:59    298.199807   \n",
              "27600       27601  33520.497040  10/16/2015 18:53:00    299.215413   \n",
              "27601       27602  33521.293920  10/16/2015 18:53:01    300.012293   \n",
              "\n",
              "       Step_Index  Cycle_Index  Current(A)  Voltage(V)  Charge_Capacity(Ah)  \\\n",
              "0               1            1         0.0    3.434257             0.000000   \n",
              "1               1            1         0.0    3.434418             0.000000   \n",
              "2               1            1         0.0    3.434581             0.000000   \n",
              "3               1            1         0.0    3.434581             0.000000   \n",
              "4               1            1         0.0    3.434257             0.000000   \n",
              "...           ...          ...         ...         ...                  ...   \n",
              "27597          12            1         0.0    4.195723             4.005512   \n",
              "27598          12            1         0.0    4.195885             4.005512   \n",
              "27599          12            1         0.0    4.195885             4.005512   \n",
              "27600          12            1         0.0    4.195885             4.005512   \n",
              "27601          12            1         0.0    4.195885             4.005512   \n",
              "\n",
              "       Discharge_Capacity(Ah)  Charge_Energy(Wh)  Discharge_Energy(Wh)  \\\n",
              "0                    0.000000           0.000000              0.000000   \n",
              "1                    0.000000           0.000000              0.000000   \n",
              "2                    0.000000           0.000000              0.000000   \n",
              "3                    0.000000           0.000000              0.000000   \n",
              "4                    0.000000           0.000000              0.000000   \n",
              "...                       ...                ...                   ...   \n",
              "27597                2.009444          15.628879              7.179247   \n",
              "27598                2.009444          15.628879              7.179247   \n",
              "27599                2.009444          15.628879              7.179247   \n",
              "27600                2.009444          15.628879              7.179247   \n",
              "27601                2.009444          15.628879              7.179247   \n",
              "\n",
              "       dV/dt(V/s)  Internal_Resistance(Ohm)  Is_FC_Data  AC_Impedance(Ohm)  \\\n",
              "0        0.000000                  0.000000           0                  0   \n",
              "1        0.000032                  0.000000           0                  0   \n",
              "2        0.000065                  0.000000           0                  0   \n",
              "3        0.000065                  0.000000           0                  0   \n",
              "4        0.000000                  0.000000           0                  0   \n",
              "...           ...                       ...         ...                ...   \n",
              "27597   -0.000065                  0.120664           0                  0   \n",
              "27598    0.000000                  0.120664           0                  0   \n",
              "27599    0.000000                  0.120664           0                  0   \n",
              "27600    0.000032                  0.120664           0                  0   \n",
              "27601    0.000000                  0.120664           0                  0   \n",
              "\n",
              "       ACI_Phase_Angle(Deg)  \n",
              "0                         0  \n",
              "1                         0  \n",
              "2                         0  \n",
              "3                         0  \n",
              "4                         0  \n",
              "...                     ...  \n",
              "27597                     0  \n",
              "27598                     0  \n",
              "27599                     0  \n",
              "27600                     0  \n",
              "27601                     0  \n",
              "\n",
              "[27602 rows x 17 columns]"
            ]
          },
          "execution_count": 8,
          "metadata": {},
          "output_type": "execute_result"
        }
      ],
      "source": [
        "data\n"
      ]
    },
    {
      "cell_type": "code",
      "execution_count": null,
      "metadata": {
        "colab": {
          "background_save": true
        },
        "id": "9Asmbw7zwZdR"
      },
      "outputs": [],
      "source": [
        "#from 'A_Practical_Data-Driven_Battery_State-of-Health_Estimation_for_Electric_Vehicles_Simul.pdf'\n",
        "def SOH(ct0, ct):\n",
        "  return ct/ct0 * 100 ;"
      ]
    },
    {
      "cell_type": "code",
      "execution_count": null,
      "metadata": {
        "colab": {
          "background_save": true
        },
        "id": "1G6EZEpvzk-B",
        "outputId": "b236afa7-208e-4ec1-afbc-d211bad04817"
      },
      "outputs": [
        {
          "data": {
            "text/plain": [
              "0.000282072"
            ]
          },
          "execution_count": 10,
          "metadata": {},
          "output_type": "execute_result"
        }
      ],
      "source": [
        "ct0 = 10**9\n",
        "for i in data['Charge_Capacity(Ah)']:\n",
        "  if i != 0 and i<ct0:\n",
        "    ct0 = i\n",
        "ct0"
      ]
    },
    {
      "cell_type": "code",
      "execution_count": null,
      "metadata": {
        "colab": {
          "background_save": true
        },
        "id": "sqPIIdSl20-O"
      },
      "outputs": [],
      "source": [
        "#ct0 = max(data['Charge_Capacity(Ah)'])"
      ]
    },
    {
      "cell_type": "code",
      "execution_count": null,
      "metadata": {
        "colab": {
          "background_save": true
        },
        "id": "dZK3-app1Z4N"
      },
      "outputs": [],
      "source": []
    },
    {
      "cell_type": "code",
      "execution_count": null,
      "metadata": {
        "colab": {
          "background_save": true
        },
        "id": "dx0-S36d0b60",
        "outputId": "01f5babc-9ead-4b6e-da0a-f35e1d48e090"
      },
      "outputs": [
        {
          "data": {
            "text/plain": [
              "array([100.        , 100.        , 100.        , ...,   4.94371645,\n",
              "         4.94371645,   4.94371645])"
            ]
          },
          "execution_count": 12,
          "metadata": {},
          "output_type": "execute_result"
        }
      ],
      "source": [
        "soh = [ SOH(ct0,x) for x in data['Charge_Capacity(Ah)'] ]\n",
        "soh\n",
        "s = np.mean(soh)\n",
        "for j in range(len(soh)):\n",
        "  soh[j] = ( 2- (soh[j]/s))*50\n",
        "\n",
        "\n",
        "soh = np.array(soh)\n",
        "soh"
      ]
    },
    {
      "cell_type": "code",
      "execution_count": null,
      "metadata": {
        "colab": {
          "background_save": true
        },
        "id": "EDoiwB1K1CGQ"
      },
      "outputs": [],
      "source": [
        "data['SOH'] = soh"
      ]
    },
    {
      "cell_type": "code",
      "execution_count": null,
      "metadata": {
        "colab": {
          "background_save": true
        },
        "id": "Ug-Ny_Ya4skB",
        "outputId": "51995689-0fba-4ee8-ed48-891466b17393"
      },
      "outputs": [
        {
          "data": {
            "image/png": "[encoded data removed]",
            "text/plain": [
              "<Figure size 640x480 with 1 Axes>"
            ]
          },
          "metadata": {},
          "output_type": "display_data"
        }
      ],
      "source": [
        "import numpy as np \n",
        "from matplotlib import pyplot as plt \n",
        "import random \n",
        "\n",
        "x = np.array(range(0, len(soh)))\n",
        "y = soh\n",
        "z= data['Current(A)']\n",
        "plt.title(\"SOH Variation\") \n",
        "plt.xlabel(\"Cycle\") \n",
        "plt.ylabel(\"SOH\") \n",
        "plt.plot(x,y)\n",
        "plt.show()"
      ]
    },
    {
      "cell_type": "code",
      "execution_count": null,
      "metadata": {
        "colab": {
          "background_save": true
        },
        "id": "fF-3z36S9UfZ",
        "outputId": "6a3fb5db-a3c4-4189-a311-bd97f84ff75e"
      },
      "outputs": [
        {
          "data": {
            "image/png": "[encoded data removed]",
            "text/plain": [
              "<Figure size 640x480 with 1 Axes>"
            ]
          },
          "metadata": {},
          "output_type": "display_data"
        }
      ],
      "source": [
        "x = np.array(range(0, len(soh)))\n",
        "y = data['Current(A)']\n",
        "plt.title(\"Current Variation\") \n",
        "plt.xlabel(\"Cycle\") \n",
        "plt.ylabel(\"Current(A)\") \n",
        "plt.plot(x,y) \n",
        "plt.show()"
      ]
    },
    {
      "cell_type": "code",
      "execution_count": null,
      "metadata": {
        "colab": {
          "background_save": true
        },
        "id": "YuhhgZZJ9Un7",
        "outputId": "4936ada3-62b8-48d9-bb25-18b1a9542dd5"
      },
      "outputs": [
        {
          "data": {
            "image/png": "[encoded data removed]",
            "text/plain": [
              "<Figure size 640x480 with 1 Axes>"
            ]
          },
          "metadata": {},
          "output_type": "display_data"
        }
      ],
      "source": [
        "x = np.array(range(0, len(soh)))\n",
        "y = data['Voltage(V)']\n",
        "plt.title(\"voltage Variation\") \n",
        "plt.xlabel(\"Cycle\") \n",
        "plt.ylabel(\"Voltage(V)\") \n",
        "plt.plot(x,y) \n",
        "plt.show()"
      ]
    },
    {
      "cell_type": "code",
      "execution_count": null,
      "metadata": {
        "colab": {
          "background_save": true
        },
        "id": "vDO8EG0R9z3_",
        "outputId": "21c505b2-8d2f-4f15-daa0-55e9a24ef2a1"
      },
      "outputs": [
        {
          "data": {
            "image/png": "[encoded data removed]",
            "text/plain": [
              "<Figure size 640x480 with 1 Axes>"
            ]
          },
          "metadata": {},
          "output_type": "display_data"
        }
      ],
      "source": [
        "x = np.array(range(0, len(soh)))\n",
        "y = data['Discharge_Energy(Wh)']\n",
        "plt.title(\"energy Variation\") \n",
        "plt.xlabel(\"Cycle\") \n",
        "plt.ylabel(\"Temperature(celcius) \") \n",
        "plt.plot(x,y) \n",
        "plt.show()"
      ]
    },
    {
      "cell_type": "code",
      "execution_count": null,
      "metadata": {
        "colab": {
          "background_save": true
        },
        "id": "jGeb6P4f3prb",
        "outputId": "90c11032-f055-4882-ee75-744a25271156"
      },
      "outputs": [
        {
          "data": {
            "text/html": [
              "\n",
              "  <div id=\"df-e977e96c-0ff3-4568-aeeb-cc3617f8809a\">\n",
              "    <div class=\"colab-df-container\">\n",
              "      <div>\n",
              "<style scoped>\n",
              "    .dataframe tbody tr th:only-of-type {\n",
              "        vertical-align: middle;\n",
              "    }\n",
              "\n",
              "    .dataframe tbody tr th {\n",
              "        vertical-align: top;\n",
              "    }\n",
              "\n",
              "    .dataframe thead th {\n",
              "        text-align: right;\n",
              "    }\n",
              "</style>\n",
              "<table border=\"1\" class=\"dataframe\">\n",
              "  <thead>\n",
              "    <tr style=\"text-align: right;\">\n",
              "      <th></th>\n",
              "      <th>Data_Point</th>\n",
              "      <th>Test_Time(s)</th>\n",
              "      <th>Date_Time</th>\n",
              "      <th>Step_Time(s)</th>\n",
              "      <th>Step_Index</th>\n",
              "      <th>Cycle_Index</th>\n",
              "      <th>Current(A)</th>\n",
              "      <th>Voltage(V)</th>\n",
              "      <th>Charge_Capacity(Ah)</th>\n",
              "      <th>Discharge_Capacity(Ah)</th>\n",
              "      <th>Charge_Energy(Wh)</th>\n",
              "      <th>Discharge_Energy(Wh)</th>\n",
              "      <th>dV/dt(V/s)</th>\n",
              "      <th>Internal_Resistance(Ohm)</th>\n",
              "      <th>Is_FC_Data</th>\n",
              "      <th>AC_Impedance(Ohm)</th>\n",
              "      <th>ACI_Phase_Angle(Deg)</th>\n",
              "      <th>SOH</th>\n",
              "    </tr>\n",
              "  </thead>\n",
              "  <tbody>\n",
              "    <tr>\n",
              "      <th>0</th>\n",
              "      <td>1</td>\n",
              "      <td>1.001205</td>\n",
              "      <td>10/16/2015 09:34:19</td>\n",
              "      <td>1.001206</td>\n",
              "      <td>1</td>\n",
              "      <td>1</td>\n",
              "      <td>0.0</td>\n",
              "      <td>3.434257</td>\n",
              "      <td>0.000000</td>\n",
              "      <td>0.000000</td>\n",
              "      <td>0.000000</td>\n",
              "      <td>0.000000</td>\n",
              "      <td>0.000000</td>\n",
              "      <td>0.000000</td>\n",
              "      <td>0</td>\n",
              "      <td>0</td>\n",
              "      <td>0</td>\n",
              "      <td>100.000000</td>\n",
              "    </tr>\n",
              "    <tr>\n",
              "      <th>1</th>\n",
              "      <td>2</td>\n",
              "      <td>2.016763</td>\n",
              "      <td>10/16/2015 09:34:20</td>\n",
              "      <td>2.016764</td>\n",
              "      <td>1</td>\n",
              "      <td>1</td>\n",
              "      <td>0.0</td>\n",
              "      <td>3.434418</td>\n",
              "      <td>0.000000</td>\n",
              "      <td>0.000000</td>\n",
              "      <td>0.000000</td>\n",
              "      <td>0.000000</td>\n",
              "      <td>0.000032</td>\n",
              "      <td>0.000000</td>\n",
              "      <td>0</td>\n",
              "      <td>0</td>\n",
              "      <td>0</td>\n",
              "      <td>100.000000</td>\n",
              "    </tr>\n",
              "    <tr>\n",
              "      <th>2</th>\n",
              "      <td>3</td>\n",
              "      <td>3.032254</td>\n",
              "      <td>10/16/2015 09:34:21</td>\n",
              "      <td>3.032255</td>\n",
              "      <td>1</td>\n",
              "      <td>1</td>\n",
              "      <td>0.0</td>\n",
              "      <td>3.434581</td>\n",
              "      <td>0.000000</td>\n",
              "      <td>0.000000</td>\n",
              "      <td>0.000000</td>\n",
              "      <td>0.000000</td>\n",
              "      <td>0.000065</td>\n",
              "      <td>0.000000</td>\n",
              "      <td>0</td>\n",
              "      <td>0</td>\n",
              "      <td>0</td>\n",
              "      <td>100.000000</td>\n",
              "    </tr>\n",
              "    <tr>\n",
              "      <th>3</th>\n",
              "      <td>4</td>\n",
              "      <td>4.032554</td>\n",
              "      <td>10/16/2015 09:34:22</td>\n",
              "      <td>4.032555</td>\n",
              "      <td>1</td>\n",
              "      <td>1</td>\n",
              "      <td>0.0</td>\n",
              "      <td>3.434581</td>\n",
              "      <td>0.000000</td>\n",
              "      <td>0.000000</td>\n",
              "      <td>0.000000</td>\n",
              "      <td>0.000000</td>\n",
              "      <td>0.000065</td>\n",
              "      <td>0.000000</td>\n",
              "      <td>0</td>\n",
              "      <td>0</td>\n",
              "      <td>0</td>\n",
              "      <td>100.000000</td>\n",
              "    </tr>\n",
              "    <tr>\n",
              "      <th>4</th>\n",
              "      <td>5</td>\n",
              "      <td>5.047983</td>\n",
              "      <td>10/16/2015 09:34:23</td>\n",
              "      <td>5.047983</td>\n",
              "      <td>1</td>\n",
              "      <td>1</td>\n",
              "      <td>0.0</td>\n",
              "      <td>3.434257</td>\n",
              "      <td>0.000000</td>\n",
              "      <td>0.000000</td>\n",
              "      <td>0.000000</td>\n",
              "      <td>0.000000</td>\n",
              "      <td>0.000000</td>\n",
              "      <td>0.000000</td>\n",
              "      <td>0</td>\n",
              "      <td>0</td>\n",
              "      <td>0</td>\n",
              "      <td>100.000000</td>\n",
              "    </tr>\n",
              "    <tr>\n",
              "      <th>...</th>\n",
              "      <td>...</td>\n",
              "      <td>...</td>\n",
              "      <td>...</td>\n",
              "      <td>...</td>\n",
              "      <td>...</td>\n",
              "      <td>...</td>\n",
              "      <td>...</td>\n",
              "      <td>...</td>\n",
              "      <td>...</td>\n",
              "      <td>...</td>\n",
              "      <td>...</td>\n",
              "      <td>...</td>\n",
              "      <td>...</td>\n",
              "      <td>...</td>\n",
              "      <td>...</td>\n",
              "      <td>...</td>\n",
              "      <td>...</td>\n",
              "      <td>...</td>\n",
              "    </tr>\n",
              "    <tr>\n",
              "      <th>27597</th>\n",
              "      <td>27598</td>\n",
              "      <td>33517.465620</td>\n",
              "      <td>10/16/2015 18:52:57</td>\n",
              "      <td>296.183986</td>\n",
              "      <td>12</td>\n",
              "      <td>1</td>\n",
              "      <td>0.0</td>\n",
              "      <td>4.195723</td>\n",
              "      <td>4.005512</td>\n",
              "      <td>2.009444</td>\n",
              "      <td>15.628879</td>\n",
              "      <td>7.179247</td>\n",
              "      <td>-0.000065</td>\n",
              "      <td>0.120664</td>\n",
              "      <td>0</td>\n",
              "      <td>0</td>\n",
              "      <td>0</td>\n",
              "      <td>4.943716</td>\n",
              "    </tr>\n",
              "    <tr>\n",
              "      <th>27598</th>\n",
              "      <td>27599</td>\n",
              "      <td>33518.465880</td>\n",
              "      <td>10/16/2015 18:52:58</td>\n",
              "      <td>297.184251</td>\n",
              "      <td>12</td>\n",
              "      <td>1</td>\n",
              "      <td>0.0</td>\n",
              "      <td>4.195885</td>\n",
              "      <td>4.005512</td>\n",
              "      <td>2.009444</td>\n",
              "      <td>15.628879</td>\n",
              "      <td>7.179247</td>\n",
              "      <td>0.000000</td>\n",
              "      <td>0.120664</td>\n",
              "      <td>0</td>\n",
              "      <td>0</td>\n",
              "      <td>0</td>\n",
              "      <td>4.943716</td>\n",
              "    </tr>\n",
              "    <tr>\n",
              "      <th>27599</th>\n",
              "      <td>27600</td>\n",
              "      <td>33519.481440</td>\n",
              "      <td>10/16/2015 18:52:59</td>\n",
              "      <td>298.199807</td>\n",
              "      <td>12</td>\n",
              "      <td>1</td>\n",
              "      <td>0.0</td>\n",
              "      <td>4.195885</td>\n",
              "      <td>4.005512</td>\n",
              "      <td>2.009444</td>\n",
              "      <td>15.628879</td>\n",
              "      <td>7.179247</td>\n",
              "      <td>0.000000</td>\n",
              "      <td>0.120664</td>\n",
              "      <td>0</td>\n",
              "      <td>0</td>\n",
              "      <td>0</td>\n",
              "      <td>4.943716</td>\n",
              "    </tr>\n",
              "    <tr>\n",
              "      <th>27600</th>\n",
              "      <td>27601</td>\n",
              "      <td>33520.497040</td>\n",
              "      <td>10/16/2015 18:53:00</td>\n",
              "      <td>299.215413</td>\n",
              "      <td>12</td>\n",
              "      <td>1</td>\n",
              "      <td>0.0</td>\n",
              "      <td>4.195885</td>\n",
              "      <td>4.005512</td>\n",
              "      <td>2.009444</td>\n",
              "      <td>15.628879</td>\n",
              "      <td>7.179247</td>\n",
              "      <td>0.000032</td>\n",
              "      <td>0.120664</td>\n",
              "      <td>0</td>\n",
              "      <td>0</td>\n",
              "      <td>0</td>\n",
              "      <td>4.943716</td>\n",
              "    </tr>\n",
              "    <tr>\n",
              "      <th>27601</th>\n",
              "      <td>27602</td>\n",
              "      <td>33521.293920</td>\n",
              "      <td>10/16/2015 18:53:01</td>\n",
              "      <td>300.012293</td>\n",
              "      <td>12</td>\n",
              "      <td>1</td>\n",
              "      <td>0.0</td>\n",
              "      <td>4.195885</td>\n",
              "      <td>4.005512</td>\n",
              "      <td>2.009444</td>\n",
              "      <td>15.628879</td>\n",
              "      <td>7.179247</td>\n",
              "      <td>0.000000</td>\n",
              "      <td>0.120664</td>\n",
              "      <td>0</td>\n",
              "      <td>0</td>\n",
              "      <td>0</td>\n",
              "      <td>4.943716</td>\n",
              "    </tr>\n",
              "  </tbody>\n",
              "</table>\n",
              "<p>27602 rows × 18 columns</p>\n",
              "</div>\n",
              "      <button class=\"colab-df-convert\" onclick=\"convertToInteractive('df-e977e96c-0ff3-4568-aeeb-cc3617f8809a')\"\n",
              "              title=\"Convert this dataframe to an interactive table.\"\n",
              "              style=\"display:none;\">\n",
              "        \n",
              "  <svg xmlns=\"http://www.w3.org/2000/svg\" height=\"24px\"viewBox=\"0 0 24 24\"\n",
              "       width=\"24px\">\n",
              "    <path d=\"M0 0h24v24H0V0z\" fill=\"none\"/>\n",
              "    <path d=\"M18.56 5.44l.94 2.06.94-2.06 2.06-.94-2.06-.94-.94-2.06-.94 2.06-2.06.94zm-11 1L8.5 8.5l.94-2.06 2.06-.94-2.06-.94L8.5 2.5l-.94 2.06-2.06.94zm10 10l.94 2.06.94-2.06 2.06-.94-2.06-.94-.94-2.06-.94 2.06-2.06.94z\"/><path d=\"M17.41 7.96l-1.37-1.37c-.4-.4-.92-.59-1.43-.59-.52 0-1.04.2-1.43.59L10.3 9.45l-7.72 7.72c-.78.78-.78 2.05 0 2.83L4 21.41c.39.39.9.59 1.41.59.51 0 1.02-.2 1.41-.59l7.78-7.78 2.81-2.81c.8-.78.8-2.07 0-2.86zM5.41 20L4 18.59l7.72-7.72 1.47 1.35L5.41 20z\"/>\n",
              "  </svg>\n",
              "      </button>\n",
              "      \n",
              "  <style>\n",
              "    .colab-df-container {\n",
              "      display:flex;\n",
              "      flex-wrap:wrap;\n",
              "      gap: 12px;\n",
              "    }\n",
              "\n",
              "    .colab-df-convert {\n",
              "      background-color: #E8F0FE;\n",
              "      border: none;\n",
              "      border-radius: 50%;\n",
              "      cursor: pointer;\n",
              "      display: none;\n",
              "      fill: #1967D2;\n",
              "      height: 32px;\n",
              "      padding: 0 0 0 0;\n",
              "      width: 32px;\n",
              "    }\n",
              "\n",
              "    .colab-df-convert:hover {\n",
              "      background-color: #E2EBFA;\n",
              "      box-shadow: 0px 1px 2px rgba(60, 64, 67, 0.3), 0px 1px 3px 1px rgba(60, 64, 67, 0.15);\n",
              "      fill: #174EA6;\n",
              "    }\n",
              "\n",
              "    [theme=dark] .colab-df-convert {\n",
              "      background-color: #3B4455;\n",
              "      fill: #D2E3FC;\n",
              "    }\n",
              "\n",
              "    [theme=dark] .colab-df-convert:hover {\n",
              "      background-color: #434B5C;\n",
              "      box-shadow: 0px 1px 3px 1px rgba(0, 0, 0, 0.15);\n",
              "      filter: drop-shadow(0px 1px 2px rgba(0, 0, 0, 0.3));\n",
              "      fill: #FFFFFF;\n",
              "    }\n",
              "  </style>\n",
              "\n",
              "      <script>\n",
              "        const buttonEl =\n",
              "          document.querySelector('#df-e977e96c-0ff3-4568-aeeb-cc3617f8809a button.colab-df-convert');\n",
              "        buttonEl.style.display =\n",
              "          google.colab.kernel.accessAllowed ? 'block' : 'none';\n",
              "\n",
              "        async function convertToInteractive(key) {\n",
              "          const element = document.querySelector('#df-e977e96c-0ff3-4568-aeeb-cc3617f8809a');\n",
              "          const dataTable =\n",
              "            await google.colab.kernel.invokeFunction('convertToInteractive',\n",
              "                                                     [key], {});\n",
              "          if (!dataTable) return;\n",
              "\n",
              "          const docLinkHtml = 'Like what you see? Visit the ' +\n",
              "            '<a target=\"_blank\" href=https://colab.research.google.com/notebooks/data_table.ipynb>data table notebook</a>'\n",
              "            + ' to learn more about interactive tables.';\n",
              "          element.innerHTML = '';\n",
              "          dataTable['output_type'] = 'display_data';\n",
              "          await google.colab.output.renderOutput(dataTable, element);\n",
              "          const docLink = document.createElement('div');\n",
              "          docLink.innerHTML = docLinkHtml;\n",
              "          element.appendChild(docLink);\n",
              "        }\n",
              "      </script>\n",
              "    </div>\n",
              "  </div>\n",
              "  "
            ],
            "text/plain": [
              "       Data_Point  Test_Time(s)            Date_Time  Step_Time(s)  \\\n",
              "0               1      1.001205  10/16/2015 09:34:19      1.001206   \n",
              "1               2      2.016763  10/16/2015 09:34:20      2.016764   \n",
              "2               3      3.032254  10/16/2015 09:34:21      3.032255   \n",
              "3               4      4.032554  10/16/2015 09:34:22      4.032555   \n",
              "4               5      5.047983  10/16/2015 09:34:23      5.047983   \n",
              "...           ...           ...                  ...           ...   \n",
              "27597       27598  33517.465620  10/16/2015 18:52:57    296.183986   \n",
              "27598       27599  33518.465880  10/16/2015 18:52:58    297.184251   \n",
              "27599       27600  33519.481440  10/16/2015 18:52:59    298.199807   \n",
              "27600       27601  33520.497040  10/16/2015 18:53:00    299.215413   \n",
              "27601       27602  33521.293920  10/16/2015 18:53:01    300.012293   \n",
              "\n",
              "       Step_Index  Cycle_Index  Current(A)  Voltage(V)  Charge_Capacity(Ah)  \\\n",
              "0               1            1         0.0    3.434257             0.000000   \n",
              "1               1            1         0.0    3.434418             0.000000   \n",
              "2               1            1         0.0    3.434581             0.000000   \n",
              "3               1            1         0.0    3.434581             0.000000   \n",
              "4               1            1         0.0    3.434257             0.000000   \n",
              "...           ...          ...         ...         ...                  ...   \n",
              "27597          12            1         0.0    4.195723             4.005512   \n",
              "27598          12            1         0.0    4.195885             4.005512   \n",
              "27599          12            1         0.0    4.195885             4.005512   \n",
              "27600          12            1         0.0    4.195885             4.005512   \n",
              "27601          12            1         0.0    4.195885             4.005512   \n",
              "\n",
              "       Discharge_Capacity(Ah)  Charge_Energy(Wh)  Discharge_Energy(Wh)  \\\n",
              "0                    0.000000           0.000000              0.000000   \n",
              "1                    0.000000           0.000000              0.000000   \n",
              "2                    0.000000           0.000000              0.000000   \n",
              "3                    0.000000           0.000000              0.000000   \n",
              "4                    0.000000           0.000000              0.000000   \n",
              "...                       ...                ...                   ...   \n",
              "27597                2.009444          15.628879              7.179247   \n",
              "27598                2.009444          15.628879              7.179247   \n",
              "27599                2.009444          15.628879              7.179247   \n",
              "27600                2.009444          15.628879              7.179247   \n",
              "27601                2.009444          15.628879              7.179247   \n",
              "\n",
              "       dV/dt(V/s)  Internal_Resistance(Ohm)  Is_FC_Data  AC_Impedance(Ohm)  \\\n",
              "0        0.000000                  0.000000           0                  0   \n",
              "1        0.000032                  0.000000           0                  0   \n",
              "2        0.000065                  0.000000           0                  0   \n",
              "3        0.000065                  0.000000           0                  0   \n",
              "4        0.000000                  0.000000           0                  0   \n",
              "...           ...                       ...         ...                ...   \n",
              "27597   -0.000065                  0.120664           0                  0   \n",
              "27598    0.000000                  0.120664           0                  0   \n",
              "27599    0.000000                  0.120664           0                  0   \n",
              "27600    0.000032                  0.120664           0                  0   \n",
              "27601    0.000000                  0.120664           0                  0   \n",
              "\n",
              "       ACI_Phase_Angle(Deg)         SOH  \n",
              "0                         0  100.000000  \n",
              "1                         0  100.000000  \n",
              "2                         0  100.000000  \n",
              "3                         0  100.000000  \n",
              "4                         0  100.000000  \n",
              "...                     ...         ...  \n",
              "27597                     0    4.943716  \n",
              "27598                     0    4.943716  \n",
              "27599                     0    4.943716  \n",
              "27600                     0    4.943716  \n",
              "27601                     0    4.943716  \n",
              "\n",
              "[27602 rows x 18 columns]"
            ]
          },
          "execution_count": 18,
          "metadata": {},
          "output_type": "execute_result"
        }
      ],
      "source": [
        "data\n"
      ]
    },
    {
      "cell_type": "code",
      "execution_count": null,
      "metadata": {
        "colab": {
          "background_save": true
        },
        "id": "ZZTm3o6u5WDm"
      },
      "outputs": [],
      "source": [
        "features = data[['Current(A)','Voltage(V)']]\n",
        "target = data['SOH']"
      ]
    },
    {
      "cell_type": "code",
      "execution_count": null,
      "metadata": {
        "colab": {
          "background_save": true
        },
        "id": "48Q8pp-z5WGU"
      },
      "outputs": [],
      "source": [
        "features_train, features_test, target_train, target_test = train_test_split(features, target, test_size=0.2)"
      ]
    },
    {
      "cell_type": "code",
      "execution_count": null,
      "metadata": {
        "colab": {
          "background_save": true
        },
        "id": "2X32KxTYDuNG",
        "outputId": "5910e374-cae4-4aa7-8bd2-35798269caf1"
      },
      "outputs": [
        {
          "data": {
            "text/plain": [
              "((22081, 2), (5521, 2), (22081,), (5521,))"
            ]
          },
          "execution_count": 21,
          "metadata": {},
          "output_type": "execute_result"
        }
      ],
      "source": [
        "np.shape(features_train),np.shape( features_test),np.shape(target_train),np.shape(target_test)"
      ]
    },
    {
      "cell_type": "code",
      "execution_count": null,
      "metadata": {
        "colab": {
          "background_save": true
        },
        "id": "r8XKnlt6bNEC",
        "outputId": "0c25dc5f-44ff-4fae-c7b3-afa3d790f80c"
      },
      "outputs": [
        {
          "data": {
            "text/plain": [
              "22081"
            ]
          },
          "execution_count": 22,
          "metadata": {},
          "output_type": "execute_result"
        }
      ],
      "source": [
        "ss= np.shape(features_train)[0] #sample size\n",
        "ss"
      ]
    },
    {
      "cell_type": "code",
      "execution_count": null,
      "metadata": {
        "colab": {
          "background_save": true
        },
        "id": "3iIr_jrE5WJC"
      },
      "outputs": [],
      "source": [
        "model = RandomForestRegressor()\n",
        "\n",
        "for  k in range(100,ss,100):\n",
        "  kk = random.randint(100,ss)\n",
        "  model.fit(features_train[kk-100:kk], target_train[kk-100:kk])"
      ]
    },
    {
      "cell_type": "code",
      "execution_count": null,
      "metadata": {
        "colab": {
          "background_save": true
        },
        "id": "3pLhcySlHutu"
      },
      "outputs": [],
      "source": [
        "import pickle\n",
        "\n",
        "# Assuming that you have trained a model called \"model\"\n",
        "# Save the model to a file\n",
        "with open('model.pkl', 'wb') as file:\n",
        "    pickle.dump(model, file)\n"
      ]
    },
    {
      "cell_type": "code",
      "execution_count": null,
      "metadata": {
        "colab": {
          "background_save": true
        },
        "id": "P4zdMdMIHuwR"
      },
      "outputs": [],
      "source": []
    },
    {
      "cell_type": "code",
      "execution_count": null,
      "metadata": {
        "colab": {
          "background_save": true
        },
        "id": "EFrCum725WLn"
      },
      "outputs": [],
      "source": [
        "test_score = model.score(features_test, target_test)"
      ]
    },
    {
      "cell_type": "markdown",
      "metadata": {
        "id": "OcKyUFUSfc_I"
      },
      "source": [
        "# Evaluation metrics\n",
        "There are several evaluation metrics that can be used to assess the performance of a Random Forest Regression (RFR) model. Here are some of the most common ones:\n",
        "\n",
        "Mean Squared Error (MSE): This measures the average squared difference between the predicted and actual values. It's commonly used to evaluate regression models, including RFR.\n",
        "\n",
        "Root Mean Squared Error (RMSE): This is the square root of the MSE and measures the average magnitude of the error in the same units as the target variable.\n",
        "\n",
        "Mean Absolute Error (MAE): This measures the average absolute difference between the predicted and actual values. It's less sensitive to outliers than MSE and RMSE.\n",
        "\n",
        "R-squared (R2): This measures the proportion of variance in the target variable that can be explained by the model. A value of 1 indicates a perfect fit, while a value of 0 indicates that the model doesn't explain any of the variance.\n",
        "\n",
        "Explained Variance Score (EVS): This measures the proportion of variance in the target variable that can be explained by the model. Like R2, a value of 1 indicates a perfect fit, while a value of 0 indicates that the model doesn't explain any of the variance. However, EVS is less sensitive to the scaling of the target variable than R2.\n",
        "\n",
        "Mean Percentage Error (MPE): This measures the average percentage difference between the predicted and actual values. It's commonly used in forecasting applications where the target variable has a natural scale, such as sales or revenue.\n",
        "\n",
        "Mean Absolute Percentage Error (MAPE): This is the absolute value of the percentage difference between the predicted and actual values, averaged over all samples. Like MPE, it's commonly used in forecasting applications.\n",
        "\n",
        "When evaluating a RFR model, it's important to choose an appropriate evaluation metric based on the specific application and the desired trade-off between bias and variance. For example, MSE and RMSE are commonly used when the goal is to minimize the overall error, while MAE and MAPE are less sensitive to outliers and may be more appropriate in applications where accuracy is more important than precision."
      ]
    },
    {
      "cell_type": "code",
      "execution_count": null,
      "metadata": {
        "colab": {
          "background_save": true
        },
        "id": "a_yCKiB6f5ba"
      },
      "outputs": [],
      "source": [
        "from sklearn.ensemble import RandomForestRegressor\n",
        "from sklearn.metrics import mean_squared_error, mean_absolute_error, r2_score, explained_variance_score"
      ]
    },
    {
      "cell_type": "code",
      "execution_count": null,
      "metadata": {
        "colab": {
          "background_save": true
        },
        "id": "KFQno393gMyZ"
      },
      "outputs": [],
      "source": [
        "pred = model.predict(features_test)"
      ]
    },
    {
      "cell_type": "code",
      "execution_count": null,
      "metadata": {
        "colab": {
          "background_save": true
        },
        "id": "F6EeBISyflfo"
      },
      "outputs": [],
      "source": [
        "mse = mean_squared_error(target_test,pred)\n",
        "rmse = mean_squared_error(target_test,pred, squared=False)\n",
        "mae = mean_absolute_error(target_test,pred)\n",
        "r2 = r2_score(target_test,pred)\n",
        "evs = explained_variance_score(target_test,pred)"
      ]
    },
    {
      "cell_type": "code",
      "execution_count": null,
      "metadata": {
        "colab": {
          "background_save": true
        },
        "id": "ARwqf2KhfpdG",
        "outputId": "53930739-3017-4531-e491-a9ba5a6a4bd7"
      },
      "outputs": [
        {
          "name": "stdout",
          "output_type": "stream",
          "text": [
            "Mean Squared Error (MSE): 426.2497203880492\n",
            "Root Mean Squared Error (RMSE): 20.645816050426518\n",
            "Mean Absolute Error (MAE): 11.725815680895607\n",
            "R-squared (R2): 0.2735939412491758\n",
            "Explained Variance Score (EVS): 0.28254602032785137\n"
          ]
        }
      ],
      "source": [
        "# Print results\n",
        "print(\"Mean Squared Error (MSE):\", mse)\n",
        "print(\"Root Mean Squared Error (RMSE):\", rmse)\n",
        "print(\"Mean Absolute Error (MAE):\", mae)\n",
        "print(\"R-squared (R2):\", r2)\n",
        "print(\"Explained Variance Score (EVS):\", evs)"
      ]
    },
    {
      "cell_type": "code",
      "execution_count": null,
      "metadata": {
        "colab": {
          "background_save": true
        },
        "id": "y6x77ka45WPC",
        "outputId": "593248d4-29e1-442d-c099-6b86a6d47fe8"
      },
      "outputs": [
        {
          "name": "stdout",
          "output_type": "stream",
          "text": [
            "Test Score:  0.2735939412491758\n",
            "Prediction:  [44.51573781]\n"
          ]
        },
        {
          "name": "stderr",
          "output_type": "stream",
          "text": [
            "/usr/local/lib/python3.10/dist-packages/sklearn/base.py:439: UserWarning: X does not have valid feature names, but RandomForestRegressor was fitted with feature names\n",
            "  warnings.warn(\n"
          ]
        }
      ],
      "source": [
        "Current_sensor = 4\n",
        "voltage_sensor = 8\n",
        "temperature_sensor = 7\n",
        "sensor_input = np.array([[Current_sensor , voltage_sensor]])\n",
        "prediction = model.predict(sensor_input)\n",
        "\n",
        "print('Test Score: ', test_score)\n",
        "print('Prediction: ', prediction)"
      ]
    },
    {
      "cell_type": "code",
      "execution_count": null,
      "metadata": {
        "colab": {
          "background_save": true
        },
        "id": "YKc9W3xm7YgK",
        "outputId": "c4be3aad-32ba-42be-d791-9096768fa4dd"
      },
      "outputs": [
        {
          "data": {
            "image/png": "[encoded data removed]",
            "text/plain": [
              "<Figure size 640x480 with 1 Axes>"
            ]
          },
          "metadata": {},
          "output_type": "display_data"
        },
        {
          "data": {
            "text/plain": [
              "[0.2735939412491758, 0.7264060587508242]"
            ]
          },
          "execution_count": 31,
          "metadata": {},
          "output_type": "execute_result"
        }
      ],
      "source": [
        "sizes = [r2, 1-r2 ] \n",
        "labels = ['Mean Squared Error (MSE)', 'Root Mean Squared Error (RMSE)', 'Mean Absolute Error (MAE)', 'R-squared (R2)', 'Explained Variance Score (EVS)']\n",
        "\n",
        "# Create a pie chart\n",
        "fig, ax = plt.subplots()\n",
        "ax.pie(sizes, labels=[labels[3], ''], autopct='%1.1f%%', startangle=90)\n",
        "\n",
        "# Add title\n",
        "ax.set_title('Test score')\n",
        "\n",
        "# Show the plot\n",
        "plt.show()\n",
        "\n",
        "sizes"
      ]
    }
  ],
  "metadata": {
    "colab": {
      "provenance": []
    },
    "kernelspec": {
      "display_name": "Python 3",
      "name": "python3"
    },
    "language_info": {
      "name": "python"
    }
  },
  "nbformat": 4,
  "nbformat_minor": 0
}